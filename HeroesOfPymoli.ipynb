{
 "cells": [
  {
   "cell_type": "code",
   "execution_count": 34,
   "metadata": {},
   "outputs": [],
   "source": [
    "import pandas as pd\n",
    "import numpy as np\n"
   ]
  },
  {
   "cell_type": "code",
   "execution_count": 35,
   "metadata": {},
   "outputs": [],
   "source": [
    "file_to_load = \"Resources/purchase_data.csv\"\n",
    "purchase_data = pd.read_csv(file_to_load)"
   ]
  },
  {
   "cell_type": "code",
   "execution_count": 36,
   "metadata": {},
   "outputs": [
    {
     "data": {
      "text/html": [
       "<div>\n",
       "<style scoped>\n",
       "    .dataframe tbody tr th:only-of-type {\n",
       "        vertical-align: middle;\n",
       "    }\n",
       "\n",
       "    .dataframe tbody tr th {\n",
       "        vertical-align: top;\n",
       "    }\n",
       "\n",
       "    .dataframe thead th {\n",
       "        text-align: right;\n",
       "    }\n",
       "</style>\n",
       "<table border=\"1\" class=\"dataframe\">\n",
       "  <thead>\n",
       "    <tr style=\"text-align: right;\">\n",
       "      <th></th>\n",
       "      <th>Total Players</th>\n",
       "    </tr>\n",
       "  </thead>\n",
       "  <tbody>\n",
       "    <tr>\n",
       "      <th>0</th>\n",
       "      <td>576</td>\n",
       "    </tr>\n",
       "  </tbody>\n",
       "</table>\n",
       "</div>"
      ],
      "text/plain": [
       "   Total Players\n",
       "0            576"
      ]
     },
     "execution_count": 36,
     "metadata": {},
     "output_type": "execute_result"
    }
   ],
   "source": [
    "# Total Number of Players\n",
    "total_players = len(purchase_data[\"SN\"].value_counts())\n",
    "\n",
    "player_count = pd.DataFrame({\"Total Players\":[total_players]})\n",
    "player_count"
   ]
  },
  {
   "cell_type": "code",
   "execution_count": 37,
   "metadata": {},
   "outputs": [
    {
     "data": {
      "text/html": [
       "<style  type=\"text/css\" >\n",
       "</style><table id=\"T_4522d51c_d05b_11ea_b395_c858c0c159a2\" ><thead>    <tr>        <th class=\"blank level0\" ></th>        <th class=\"col_heading level0 col0\" >Number of Unique Items</th>        <th class=\"col_heading level0 col1\" >Average Price</th>        <th class=\"col_heading level0 col2\" >Number of Purchases</th>        <th class=\"col_heading level0 col3\" >Total Revenue</th>    </tr></thead><tbody>\n",
       "                <tr>\n",
       "                        <th id=\"T_4522d51c_d05b_11ea_b395_c858c0c159a2level0_row0\" class=\"row_heading level0 row0\" >0</th>\n",
       "                        <td id=\"T_4522d51c_d05b_11ea_b395_c858c0c159a2row0_col0\" class=\"data row0 col0\" >179</td>\n",
       "                        <td id=\"T_4522d51c_d05b_11ea_b395_c858c0c159a2row0_col1\" class=\"data row0 col1\" >$3.05</td>\n",
       "                        <td id=\"T_4522d51c_d05b_11ea_b395_c858c0c159a2row0_col2\" class=\"data row0 col2\" >780</td>\n",
       "                        <td id=\"T_4522d51c_d05b_11ea_b395_c858c0c159a2row0_col3\" class=\"data row0 col3\" >$2,379.77</td>\n",
       "            </tr>\n",
       "    </tbody></table>"
      ],
      "text/plain": [
       "<pandas.io.formats.style.Styler at 0x13d92a37508>"
      ]
     },
     "execution_count": 37,
     "metadata": {},
     "output_type": "execute_result"
    }
   ],
   "source": [
    "# Purchasing analysis\n",
    "number_of_unique_items = len((purchase_data[\"Item ID\"]).unique())\n",
    "average_price = (purchase_data[\"Price\"]).mean()\n",
    "number_of_purchases = (purchase_data[\"Purchase ID\"]).count()\n",
    "total_revenue = (purchase_data[\"Price\"]).sum()\n",
    "\n",
    "\n",
    "summary_df = pd.DataFrame({\"Number of Unique Items\":[number_of_unique_items],\n",
    "                           \"Average Price\":[average_price], \n",
    "                           \"Number of Purchases\": [number_of_purchases], \n",
    "                           \"Total Revenue\": [total_revenue]})\n",
    "\n",
    "# Currency format\n",
    "summary_df.style.format({'Average Price':\"${:,.2f}\",\n",
    "                         'Total Revenue': '${:,.2f}'})"
   ]
  },
  {
   "cell_type": "code",
   "execution_count": 38,
   "metadata": {},
   "outputs": [
    {
     "data": {
      "text/html": [
       "<style  type=\"text/css\" >\n",
       "</style><table id=\"T_4524cf86_d05b_11ea_85b3_c858c0c159a2\" ><thead>    <tr>        <th class=\"blank level0\" ></th>        <th class=\"col_heading level0 col0\" >Percentage of Players</th>        <th class=\"col_heading level0 col1\" >Total Count</th>    </tr></thead><tbody>\n",
       "                <tr>\n",
       "                        <th id=\"T_4524cf86_d05b_11ea_85b3_c858c0c159a2level0_row0\" class=\"row_heading level0 row0\" >Male</th>\n",
       "                        <td id=\"T_4524cf86_d05b_11ea_85b3_c858c0c159a2row0_col0\" class=\"data row0 col0\" >84.03</td>\n",
       "                        <td id=\"T_4524cf86_d05b_11ea_85b3_c858c0c159a2row0_col1\" class=\"data row0 col1\" >484</td>\n",
       "            </tr>\n",
       "            <tr>\n",
       "                        <th id=\"T_4524cf86_d05b_11ea_85b3_c858c0c159a2level0_row1\" class=\"row_heading level0 row1\" >Female</th>\n",
       "                        <td id=\"T_4524cf86_d05b_11ea_85b3_c858c0c159a2row1_col0\" class=\"data row1 col0\" >14.06</td>\n",
       "                        <td id=\"T_4524cf86_d05b_11ea_85b3_c858c0c159a2row1_col1\" class=\"data row1 col1\" >81</td>\n",
       "            </tr>\n",
       "            <tr>\n",
       "                        <th id=\"T_4524cf86_d05b_11ea_85b3_c858c0c159a2level0_row2\" class=\"row_heading level0 row2\" >Other / Non-Disclosed</th>\n",
       "                        <td id=\"T_4524cf86_d05b_11ea_85b3_c858c0c159a2row2_col0\" class=\"data row2 col0\" >1.91</td>\n",
       "                        <td id=\"T_4524cf86_d05b_11ea_85b3_c858c0c159a2row2_col1\" class=\"data row2 col1\" >11</td>\n",
       "            </tr>\n",
       "    </tbody></table>"
      ],
      "text/plain": [
       "<pandas.io.formats.style.Styler at 0x13d92a01608>"
      ]
     },
     "execution_count": 38,
     "metadata": {},
     "output_type": "execute_result"
    }
   ],
   "source": [
    "# Gender Demographics\n",
    "##Percentage and Count of Male Players\n",
    "##Percentage and Count of Female Players\n",
    "##Percentage and Count of Other / Non-Disclosed\n",
    "\n",
    "gender_stats = purchase_data.groupby(\"Gender\")\n",
    "total_count_gender = gender_stats.nunique()[\"SN\"]\n",
    "percentage_of_players = total_count_gender / total_players * 100\n",
    "\n",
    "gender_demographics = pd.DataFrame({\"Percentage of Players\": percentage_of_players, \"Total Count\": total_count_gender})\n",
    "\n",
    "gender_demographics.index.name = None\n",
    "gender_demographics.sort_values([\"Total Count\"], ascending = False).style.format({\"Percentage of Players\":\"{:.2f}\"})"
   ]
  },
  {
   "cell_type": "code",
   "execution_count": 39,
   "metadata": {},
   "outputs": [
    {
     "data": {
      "text/html": [
       "<style  type=\"text/css\" >\n",
       "</style><table id=\"T_4526408a_d05b_11ea_93d2_c858c0c159a2\" ><thead>    <tr>        <th class=\"blank level0\" ></th>        <th class=\"col_heading level0 col0\" >Purchase Count</th>        <th class=\"col_heading level0 col1\" >Average Purchase Price</th>        <th class=\"col_heading level0 col2\" >Average Purchase Value</th>        <th class=\"col_heading level0 col3\" >Avg Purchase Total per Person</th>    </tr>    <tr>        <th class=\"index_name level0\" >Gender</th>        <th class=\"blank\" ></th>        <th class=\"blank\" ></th>        <th class=\"blank\" ></th>        <th class=\"blank\" ></th>    </tr></thead><tbody>\n",
       "                <tr>\n",
       "                        <th id=\"T_4526408a_d05b_11ea_93d2_c858c0c159a2level0_row0\" class=\"row_heading level0 row0\" >Female</th>\n",
       "                        <td id=\"T_4526408a_d05b_11ea_93d2_c858c0c159a2row0_col0\" class=\"data row0 col0\" >113</td>\n",
       "                        <td id=\"T_4526408a_d05b_11ea_93d2_c858c0c159a2row0_col1\" class=\"data row0 col1\" >$3.20</td>\n",
       "                        <td id=\"T_4526408a_d05b_11ea_93d2_c858c0c159a2row0_col2\" class=\"data row0 col2\" >$361.94</td>\n",
       "                        <td id=\"T_4526408a_d05b_11ea_93d2_c858c0c159a2row0_col3\" class=\"data row0 col3\" >$4.47</td>\n",
       "            </tr>\n",
       "            <tr>\n",
       "                        <th id=\"T_4526408a_d05b_11ea_93d2_c858c0c159a2level0_row1\" class=\"row_heading level0 row1\" >Male</th>\n",
       "                        <td id=\"T_4526408a_d05b_11ea_93d2_c858c0c159a2row1_col0\" class=\"data row1 col0\" >652</td>\n",
       "                        <td id=\"T_4526408a_d05b_11ea_93d2_c858c0c159a2row1_col1\" class=\"data row1 col1\" >$3.02</td>\n",
       "                        <td id=\"T_4526408a_d05b_11ea_93d2_c858c0c159a2row1_col2\" class=\"data row1 col2\" >$1,967.64</td>\n",
       "                        <td id=\"T_4526408a_d05b_11ea_93d2_c858c0c159a2row1_col3\" class=\"data row1 col3\" >$4.07</td>\n",
       "            </tr>\n",
       "            <tr>\n",
       "                        <th id=\"T_4526408a_d05b_11ea_93d2_c858c0c159a2level0_row2\" class=\"row_heading level0 row2\" >Other / Non-Disclosed</th>\n",
       "                        <td id=\"T_4526408a_d05b_11ea_93d2_c858c0c159a2row2_col0\" class=\"data row2 col0\" >15</td>\n",
       "                        <td id=\"T_4526408a_d05b_11ea_93d2_c858c0c159a2row2_col1\" class=\"data row2 col1\" >$3.35</td>\n",
       "                        <td id=\"T_4526408a_d05b_11ea_93d2_c858c0c159a2row2_col2\" class=\"data row2 col2\" >$50.19</td>\n",
       "                        <td id=\"T_4526408a_d05b_11ea_93d2_c858c0c159a2row2_col3\" class=\"data row2 col3\" >$4.56</td>\n",
       "            </tr>\n",
       "    </tbody></table>"
      ],
      "text/plain": [
       "<pandas.io.formats.style.Styler at 0x13d929262c8>"
      ]
     },
     "execution_count": 39,
     "metadata": {},
     "output_type": "execute_result"
    }
   ],
   "source": [
    "# Count the total purchases by gender \n",
    "## The below each broken by gender\n",
    "\n",
    "### Purchase Count\n",
    "### Average Purchase Price\n",
    "### Total Purchase Value\n",
    "### Average Purchase Total per Person by Gender\n",
    "\n",
    "purchase_count = gender_stats[\"Purchase ID\"].count()\n",
    "\n",
    "avg_purchase_price = gender_stats[\"Price\"].mean()\n",
    "\n",
    "avg_purchase_total = gender_stats[\"Price\"].sum()\n",
    "\n",
    "avg_purchase_per_person = avg_purchase_total/total_count_gender\n",
    "\n",
    "# Create data frame\n",
    "gender_demographics = pd.DataFrame({\"Purchase Count\": purchase_count, \n",
    "                                    \"Average Purchase Price\": avg_purchase_price,\n",
    "                                    \"Average Purchase Value\":avg_purchase_total,\n",
    "                                    \"Avg Purchase Total per Person\": avg_purchase_per_person})\n",
    "gender_demographics.index.name = \"Gender\"\n",
    "\n",
    "# Currency format\n",
    "gender_demographics.style.format({\"Average Purchase Value\":\"${:,.2f}\",\n",
    "                                  \"Average Purchase Price\":\"${:,.2f}\",\n",
    "                                  \"Avg Purchase Total per Person\":\"${:,.2f}\"})"
   ]
  },
  {
   "cell_type": "code",
   "execution_count": 40,
   "metadata": {},
   "outputs": [
    {
     "data": {
      "text/html": [
       "<style  type=\"text/css\" >\n",
       "</style><table id=\"T_45285828_d05b_11ea_ab72_c858c0c159a2\" ><thead>    <tr>        <th class=\"blank level0\" ></th>        <th class=\"col_heading level0 col0\" >Percentage of Players</th>        <th class=\"col_heading level0 col1\" >Total Count</th>    </tr></thead><tbody>\n",
       "                <tr>\n",
       "                        <th id=\"T_45285828_d05b_11ea_ab72_c858c0c159a2level0_row0\" class=\"row_heading level0 row0\" ><10</th>\n",
       "                        <td id=\"T_45285828_d05b_11ea_ab72_c858c0c159a2row0_col0\" class=\"data row0 col0\" >2.95</td>\n",
       "                        <td id=\"T_45285828_d05b_11ea_ab72_c858c0c159a2row0_col1\" class=\"data row0 col1\" >17</td>\n",
       "            </tr>\n",
       "            <tr>\n",
       "                        <th id=\"T_45285828_d05b_11ea_ab72_c858c0c159a2level0_row1\" class=\"row_heading level0 row1\" >10-14</th>\n",
       "                        <td id=\"T_45285828_d05b_11ea_ab72_c858c0c159a2row1_col0\" class=\"data row1 col0\" >3.82</td>\n",
       "                        <td id=\"T_45285828_d05b_11ea_ab72_c858c0c159a2row1_col1\" class=\"data row1 col1\" >22</td>\n",
       "            </tr>\n",
       "            <tr>\n",
       "                        <th id=\"T_45285828_d05b_11ea_ab72_c858c0c159a2level0_row2\" class=\"row_heading level0 row2\" >15-19</th>\n",
       "                        <td id=\"T_45285828_d05b_11ea_ab72_c858c0c159a2row2_col0\" class=\"data row2 col0\" >18.58</td>\n",
       "                        <td id=\"T_45285828_d05b_11ea_ab72_c858c0c159a2row2_col1\" class=\"data row2 col1\" >107</td>\n",
       "            </tr>\n",
       "            <tr>\n",
       "                        <th id=\"T_45285828_d05b_11ea_ab72_c858c0c159a2level0_row3\" class=\"row_heading level0 row3\" >20-24</th>\n",
       "                        <td id=\"T_45285828_d05b_11ea_ab72_c858c0c159a2row3_col0\" class=\"data row3 col0\" >44.79</td>\n",
       "                        <td id=\"T_45285828_d05b_11ea_ab72_c858c0c159a2row3_col1\" class=\"data row3 col1\" >258</td>\n",
       "            </tr>\n",
       "            <tr>\n",
       "                        <th id=\"T_45285828_d05b_11ea_ab72_c858c0c159a2level0_row4\" class=\"row_heading level0 row4\" >25-29</th>\n",
       "                        <td id=\"T_45285828_d05b_11ea_ab72_c858c0c159a2row4_col0\" class=\"data row4 col0\" >13.37</td>\n",
       "                        <td id=\"T_45285828_d05b_11ea_ab72_c858c0c159a2row4_col1\" class=\"data row4 col1\" >77</td>\n",
       "            </tr>\n",
       "            <tr>\n",
       "                        <th id=\"T_45285828_d05b_11ea_ab72_c858c0c159a2level0_row5\" class=\"row_heading level0 row5\" >30-34</th>\n",
       "                        <td id=\"T_45285828_d05b_11ea_ab72_c858c0c159a2row5_col0\" class=\"data row5 col0\" >9.03</td>\n",
       "                        <td id=\"T_45285828_d05b_11ea_ab72_c858c0c159a2row5_col1\" class=\"data row5 col1\" >52</td>\n",
       "            </tr>\n",
       "            <tr>\n",
       "                        <th id=\"T_45285828_d05b_11ea_ab72_c858c0c159a2level0_row6\" class=\"row_heading level0 row6\" >35-39</th>\n",
       "                        <td id=\"T_45285828_d05b_11ea_ab72_c858c0c159a2row6_col0\" class=\"data row6 col0\" >5.38</td>\n",
       "                        <td id=\"T_45285828_d05b_11ea_ab72_c858c0c159a2row6_col1\" class=\"data row6 col1\" >31</td>\n",
       "            </tr>\n",
       "            <tr>\n",
       "                        <th id=\"T_45285828_d05b_11ea_ab72_c858c0c159a2level0_row7\" class=\"row_heading level0 row7\" >40+</th>\n",
       "                        <td id=\"T_45285828_d05b_11ea_ab72_c858c0c159a2row7_col0\" class=\"data row7 col0\" >2.08</td>\n",
       "                        <td id=\"T_45285828_d05b_11ea_ab72_c858c0c159a2row7_col1\" class=\"data row7 col1\" >12</td>\n",
       "            </tr>\n",
       "    </tbody></table>"
      ],
      "text/plain": [
       "<pandas.io.formats.style.Styler at 0x13d9291efc8>"
      ]
     },
     "execution_count": 40,
     "metadata": {},
     "output_type": "execute_result"
    }
   ],
   "source": [
    "# Age Demographics\n",
    "\n",
    "##The below each broken into bins of 4 years (i.e. <10, 10-14, 15-19, etc.)\n",
    "\n",
    "### Purchase Count\n",
    "### Average Purchase Price\n",
    "### Total Purchase Value\n",
    "### Average Purchase Total per Person by Age Group\n",
    "\n",
    "age_bins = [0, 9.90, 14.90, 19.90, 24.90, 29.90, 34.90, 39.90, 99999]\n",
    "group_names = [\"<10\", \"10-14\", \"15-19\", \"20-24\", \"25-29\", \"30-34\", \"35-39\", \"40+\"]\n",
    "\n",
    "purchase_data[\"Age Group\"] = pd.cut(purchase_data[\"Age\"],age_bins, labels=group_names)\n",
    "purchase_data\n",
    "\n",
    "age_grouped = purchase_data.groupby(\"Age Group\")\n",
    "\n",
    "total_count_age = age_grouped[\"SN\"].nunique()\n",
    "\n",
    "percentage_by_age = (total_count_age/total_players) * 100\n",
    "\n",
    "# Create data frame \n",
    "age_demographics = pd.DataFrame({\"Percentage of Players\": percentage_by_age, \"Total Count\": total_count_age})\n",
    "age_demographics.index.name = None\n",
    "\n",
    "# Style format\n",
    "age_demographics.style.format({\"Percentage of Players\":\"{:,.2f}\"})"
   ]
  },
  {
   "cell_type": "code",
   "execution_count": 41,
   "metadata": {},
   "outputs": [
    {
     "data": {
      "text/html": [
       "<style  type=\"text/css\" >\n",
       "</style><table id=\"T_452a0462_d05b_11ea_bdec_c858c0c159a2\" ><thead>    <tr>        <th class=\"blank level0\" ></th>        <th class=\"col_heading level0 col0\" >Purchase Count</th>        <th class=\"col_heading level0 col1\" >Average Purchase Price</th>        <th class=\"col_heading level0 col2\" >Total Purchase Value</th>        <th class=\"col_heading level0 col3\" >Average Purchase Total per Person</th>    </tr></thead><tbody>\n",
       "                <tr>\n",
       "                        <th id=\"T_452a0462_d05b_11ea_bdec_c858c0c159a2level0_row0\" class=\"row_heading level0 row0\" ><10</th>\n",
       "                        <td id=\"T_452a0462_d05b_11ea_bdec_c858c0c159a2row0_col0\" class=\"data row0 col0\" >23</td>\n",
       "                        <td id=\"T_452a0462_d05b_11ea_bdec_c858c0c159a2row0_col1\" class=\"data row0 col1\" >$3.35</td>\n",
       "                        <td id=\"T_452a0462_d05b_11ea_bdec_c858c0c159a2row0_col2\" class=\"data row0 col2\" >$77.13</td>\n",
       "                        <td id=\"T_452a0462_d05b_11ea_bdec_c858c0c159a2row0_col3\" class=\"data row0 col3\" >$4.54</td>\n",
       "            </tr>\n",
       "            <tr>\n",
       "                        <th id=\"T_452a0462_d05b_11ea_bdec_c858c0c159a2level0_row1\" class=\"row_heading level0 row1\" >10-14</th>\n",
       "                        <td id=\"T_452a0462_d05b_11ea_bdec_c858c0c159a2row1_col0\" class=\"data row1 col0\" >28</td>\n",
       "                        <td id=\"T_452a0462_d05b_11ea_bdec_c858c0c159a2row1_col1\" class=\"data row1 col1\" >$2.96</td>\n",
       "                        <td id=\"T_452a0462_d05b_11ea_bdec_c858c0c159a2row1_col2\" class=\"data row1 col2\" >$82.78</td>\n",
       "                        <td id=\"T_452a0462_d05b_11ea_bdec_c858c0c159a2row1_col3\" class=\"data row1 col3\" >$3.76</td>\n",
       "            </tr>\n",
       "            <tr>\n",
       "                        <th id=\"T_452a0462_d05b_11ea_bdec_c858c0c159a2level0_row2\" class=\"row_heading level0 row2\" >15-19</th>\n",
       "                        <td id=\"T_452a0462_d05b_11ea_bdec_c858c0c159a2row2_col0\" class=\"data row2 col0\" >136</td>\n",
       "                        <td id=\"T_452a0462_d05b_11ea_bdec_c858c0c159a2row2_col1\" class=\"data row2 col1\" >$3.04</td>\n",
       "                        <td id=\"T_452a0462_d05b_11ea_bdec_c858c0c159a2row2_col2\" class=\"data row2 col2\" >$412.89</td>\n",
       "                        <td id=\"T_452a0462_d05b_11ea_bdec_c858c0c159a2row2_col3\" class=\"data row2 col3\" >$3.86</td>\n",
       "            </tr>\n",
       "            <tr>\n",
       "                        <th id=\"T_452a0462_d05b_11ea_bdec_c858c0c159a2level0_row3\" class=\"row_heading level0 row3\" >20-24</th>\n",
       "                        <td id=\"T_452a0462_d05b_11ea_bdec_c858c0c159a2row3_col0\" class=\"data row3 col0\" >365</td>\n",
       "                        <td id=\"T_452a0462_d05b_11ea_bdec_c858c0c159a2row3_col1\" class=\"data row3 col1\" >$3.05</td>\n",
       "                        <td id=\"T_452a0462_d05b_11ea_bdec_c858c0c159a2row3_col2\" class=\"data row3 col2\" >$1,114.06</td>\n",
       "                        <td id=\"T_452a0462_d05b_11ea_bdec_c858c0c159a2row3_col3\" class=\"data row3 col3\" >$4.32</td>\n",
       "            </tr>\n",
       "            <tr>\n",
       "                        <th id=\"T_452a0462_d05b_11ea_bdec_c858c0c159a2level0_row4\" class=\"row_heading level0 row4\" >25-29</th>\n",
       "                        <td id=\"T_452a0462_d05b_11ea_bdec_c858c0c159a2row4_col0\" class=\"data row4 col0\" >101</td>\n",
       "                        <td id=\"T_452a0462_d05b_11ea_bdec_c858c0c159a2row4_col1\" class=\"data row4 col1\" >$2.90</td>\n",
       "                        <td id=\"T_452a0462_d05b_11ea_bdec_c858c0c159a2row4_col2\" class=\"data row4 col2\" >$293.00</td>\n",
       "                        <td id=\"T_452a0462_d05b_11ea_bdec_c858c0c159a2row4_col3\" class=\"data row4 col3\" >$3.81</td>\n",
       "            </tr>\n",
       "            <tr>\n",
       "                        <th id=\"T_452a0462_d05b_11ea_bdec_c858c0c159a2level0_row5\" class=\"row_heading level0 row5\" >30-34</th>\n",
       "                        <td id=\"T_452a0462_d05b_11ea_bdec_c858c0c159a2row5_col0\" class=\"data row5 col0\" >73</td>\n",
       "                        <td id=\"T_452a0462_d05b_11ea_bdec_c858c0c159a2row5_col1\" class=\"data row5 col1\" >$2.93</td>\n",
       "                        <td id=\"T_452a0462_d05b_11ea_bdec_c858c0c159a2row5_col2\" class=\"data row5 col2\" >$214.00</td>\n",
       "                        <td id=\"T_452a0462_d05b_11ea_bdec_c858c0c159a2row5_col3\" class=\"data row5 col3\" >$4.12</td>\n",
       "            </tr>\n",
       "            <tr>\n",
       "                        <th id=\"T_452a0462_d05b_11ea_bdec_c858c0c159a2level0_row6\" class=\"row_heading level0 row6\" >35-39</th>\n",
       "                        <td id=\"T_452a0462_d05b_11ea_bdec_c858c0c159a2row6_col0\" class=\"data row6 col0\" >41</td>\n",
       "                        <td id=\"T_452a0462_d05b_11ea_bdec_c858c0c159a2row6_col1\" class=\"data row6 col1\" >$3.60</td>\n",
       "                        <td id=\"T_452a0462_d05b_11ea_bdec_c858c0c159a2row6_col2\" class=\"data row6 col2\" >$147.67</td>\n",
       "                        <td id=\"T_452a0462_d05b_11ea_bdec_c858c0c159a2row6_col3\" class=\"data row6 col3\" >$4.76</td>\n",
       "            </tr>\n",
       "            <tr>\n",
       "                        <th id=\"T_452a0462_d05b_11ea_bdec_c858c0c159a2level0_row7\" class=\"row_heading level0 row7\" >40+</th>\n",
       "                        <td id=\"T_452a0462_d05b_11ea_bdec_c858c0c159a2row7_col0\" class=\"data row7 col0\" >13</td>\n",
       "                        <td id=\"T_452a0462_d05b_11ea_bdec_c858c0c159a2row7_col1\" class=\"data row7 col1\" >$2.94</td>\n",
       "                        <td id=\"T_452a0462_d05b_11ea_bdec_c858c0c159a2row7_col2\" class=\"data row7 col2\" >$38.24</td>\n",
       "                        <td id=\"T_452a0462_d05b_11ea_bdec_c858c0c159a2row7_col3\" class=\"data row7 col3\" >$3.19</td>\n",
       "            </tr>\n",
       "    </tbody></table>"
      ],
      "text/plain": [
       "<pandas.io.formats.style.Styler at 0x13d929ea188>"
      ]
     },
     "execution_count": 41,
     "metadata": {},
     "output_type": "execute_result"
    }
   ],
   "source": [
    "# Top Spenders\n",
    "\n",
    "## Identify the the top 5 spenders in the game by total purchase value, then list (in a table):\n",
    "\n",
    "### SN\n",
    "### Purchase Count\n",
    "### Average Purchase Price\n",
    "### Total Purchase Value\n",
    "\n",
    "purchase_count_age = age_grouped[\"Purchase ID\"].count()\n",
    "\n",
    "avg_purchase_price_age = age_grouped[\"Price\"].mean()\n",
    "\n",
    "total_purchase_value = age_grouped[\"Price\"].sum()\n",
    "\n",
    "avg_purchase_per_person_age = total_purchase_value/total_count_age\n",
    "\n",
    "# Create data frame\n",
    "age_demographics = pd.DataFrame({\"Purchase Count\": purchase_count_age,\n",
    "                                 \"Average Purchase Price\": avg_purchase_price_age,\n",
    "                                 \"Total Purchase Value\":total_purchase_value,\n",
    "                                 \"Average Purchase Total per Person\": avg_purchase_per_person_age})\n",
    "age_demographics.index.name = None\n",
    "\n",
    "# Currency format\n",
    "age_demographics.style.format({\"Average Purchase Price\":\"${:,.2f}\",\n",
    "                               \"Total Purchase Value\":\"${:,.2f}\",\n",
    "                               \"Average Purchase Total per Person\":\"${:,.2f}\"})"
   ]
  },
  {
   "cell_type": "code",
   "execution_count": 42,
   "metadata": {},
   "outputs": [
    {
     "data": {
      "text/html": [
       "<style  type=\"text/css\" >\n",
       "</style><table id=\"T_452bfed4_d05b_11ea_90b0_c858c0c159a2\" ><thead>    <tr>        <th class=\"blank level0\" ></th>        <th class=\"col_heading level0 col0\" >Purchase Count</th>        <th class=\"col_heading level0 col1\" >Average Purchase Price</th>        <th class=\"col_heading level0 col2\" >Total Purchase Value</th>    </tr>    <tr>        <th class=\"index_name level0\" >SN</th>        <th class=\"blank\" ></th>        <th class=\"blank\" ></th>        <th class=\"blank\" ></th>    </tr></thead><tbody>\n",
       "                <tr>\n",
       "                        <th id=\"T_452bfed4_d05b_11ea_90b0_c858c0c159a2level0_row0\" class=\"row_heading level0 row0\" >Lisosia93</th>\n",
       "                        <td id=\"T_452bfed4_d05b_11ea_90b0_c858c0c159a2row0_col0\" class=\"data row0 col0\" >5</td>\n",
       "                        <td id=\"T_452bfed4_d05b_11ea_90b0_c858c0c159a2row0_col1\" class=\"data row0 col1\" >$3.79</td>\n",
       "                        <td id=\"T_452bfed4_d05b_11ea_90b0_c858c0c159a2row0_col2\" class=\"data row0 col2\" >$18.96</td>\n",
       "            </tr>\n",
       "            <tr>\n",
       "                        <th id=\"T_452bfed4_d05b_11ea_90b0_c858c0c159a2level0_row1\" class=\"row_heading level0 row1\" >Idastidru52</th>\n",
       "                        <td id=\"T_452bfed4_d05b_11ea_90b0_c858c0c159a2row1_col0\" class=\"data row1 col0\" >4</td>\n",
       "                        <td id=\"T_452bfed4_d05b_11ea_90b0_c858c0c159a2row1_col1\" class=\"data row1 col1\" >$3.86</td>\n",
       "                        <td id=\"T_452bfed4_d05b_11ea_90b0_c858c0c159a2row1_col2\" class=\"data row1 col2\" >$15.45</td>\n",
       "            </tr>\n",
       "            <tr>\n",
       "                        <th id=\"T_452bfed4_d05b_11ea_90b0_c858c0c159a2level0_row2\" class=\"row_heading level0 row2\" >Chamjask73</th>\n",
       "                        <td id=\"T_452bfed4_d05b_11ea_90b0_c858c0c159a2row2_col0\" class=\"data row2 col0\" >3</td>\n",
       "                        <td id=\"T_452bfed4_d05b_11ea_90b0_c858c0c159a2row2_col1\" class=\"data row2 col1\" >$4.61</td>\n",
       "                        <td id=\"T_452bfed4_d05b_11ea_90b0_c858c0c159a2row2_col2\" class=\"data row2 col2\" >$13.83</td>\n",
       "            </tr>\n",
       "            <tr>\n",
       "                        <th id=\"T_452bfed4_d05b_11ea_90b0_c858c0c159a2level0_row3\" class=\"row_heading level0 row3\" >Iral74</th>\n",
       "                        <td id=\"T_452bfed4_d05b_11ea_90b0_c858c0c159a2row3_col0\" class=\"data row3 col0\" >4</td>\n",
       "                        <td id=\"T_452bfed4_d05b_11ea_90b0_c858c0c159a2row3_col1\" class=\"data row3 col1\" >$3.40</td>\n",
       "                        <td id=\"T_452bfed4_d05b_11ea_90b0_c858c0c159a2row3_col2\" class=\"data row3 col2\" >$13.62</td>\n",
       "            </tr>\n",
       "            <tr>\n",
       "                        <th id=\"T_452bfed4_d05b_11ea_90b0_c858c0c159a2level0_row4\" class=\"row_heading level0 row4\" >Iskadarya95</th>\n",
       "                        <td id=\"T_452bfed4_d05b_11ea_90b0_c858c0c159a2row4_col0\" class=\"data row4 col0\" >3</td>\n",
       "                        <td id=\"T_452bfed4_d05b_11ea_90b0_c858c0c159a2row4_col1\" class=\"data row4 col1\" >$4.37</td>\n",
       "                        <td id=\"T_452bfed4_d05b_11ea_90b0_c858c0c159a2row4_col2\" class=\"data row4 col2\" >$13.10</td>\n",
       "            </tr>\n",
       "    </tbody></table>"
      ],
      "text/plain": [
       "<pandas.io.formats.style.Styler at 0x13d929ac8c8>"
      ]
     },
     "execution_count": 42,
     "metadata": {},
     "output_type": "execute_result"
    }
   ],
   "source": [
    " # Most Popular Items\n",
    "\n",
    "##Identify the 5 most popular items by purchase count, then list (in a table):\n",
    "\n",
    "###Item ID\n",
    "### Item Name\n",
    "### Purchase Count\n",
    "### Item Price\n",
    "### Total Purchase Value\n",
    "spender_stats = purchase_data.groupby(\"SN\")\n",
    "\n",
    "purchase_count_spender = spender_stats[\"Purchase ID\"].count()\n",
    "\n",
    "avg_purchase_price_spender = spender_stats[\"Price\"].mean()\n",
    "\n",
    "purchase_total_spender = spender_stats[\"Price\"].sum()\n",
    "\n",
    "# Create data frame\n",
    "top_spenders = pd.DataFrame({\"Purchase Count\": purchase_count_spender,\n",
    "                             \"Average Purchase Price\": avg_purchase_price_spender,\n",
    "                             \"Total Purchase Value\":purchase_total_spender})\n",
    "formatted_spenders = top_spenders.sort_values([\"Total Purchase Value\"], ascending=False).head()\n",
    "\n",
    "# Currency format\n",
    "formatted_spenders.style.format({\"Average Purchase Total\":\"${:,.2f}\",\n",
    "                                 \"Average Purchase Price\":\"${:,.2f}\", \n",
    "                                 \"Total Purchase Value\":\"${:,.2f}\"})"
   ]
  },
  {
   "cell_type": "code",
   "execution_count": 46,
   "metadata": {},
   "outputs": [
    {
     "data": {
      "text/html": [
       "<style  type=\"text/css\" >\n",
       "</style><table id=\"T_88e0d2b0_d05e_11ea_b3f2_c858c0c159a2\" ><thead>    <tr>        <th class=\"blank\" ></th>        <th class=\"blank level0\" ></th>        <th class=\"col_heading level0 col0\" >Purchase Count</th>        <th class=\"col_heading level0 col1\" >Item Price</th>        <th class=\"col_heading level0 col2\" >Total Purchase Value</th>    </tr>    <tr>        <th class=\"index_name level0\" >Item ID</th>        <th class=\"index_name level1\" >Item Name</th>        <th class=\"blank\" ></th>        <th class=\"blank\" ></th>        <th class=\"blank\" ></th>    </tr></thead><tbody>\n",
       "                <tr>\n",
       "                        <th id=\"T_88e0d2b0_d05e_11ea_b3f2_c858c0c159a2level0_row0\" class=\"row_heading level0 row0\" >92</th>\n",
       "                        <th id=\"T_88e0d2b0_d05e_11ea_b3f2_c858c0c159a2level1_row0\" class=\"row_heading level1 row0\" >Final Critic</th>\n",
       "                        <td id=\"T_88e0d2b0_d05e_11ea_b3f2_c858c0c159a2row0_col0\" class=\"data row0 col0\" >13</td>\n",
       "                        <td id=\"T_88e0d2b0_d05e_11ea_b3f2_c858c0c159a2row0_col1\" class=\"data row0 col1\" >$4.61</td>\n",
       "                        <td id=\"T_88e0d2b0_d05e_11ea_b3f2_c858c0c159a2row0_col2\" class=\"data row0 col2\" >$59.99</td>\n",
       "            </tr>\n",
       "            <tr>\n",
       "                        <th id=\"T_88e0d2b0_d05e_11ea_b3f2_c858c0c159a2level0_row1\" class=\"row_heading level0 row1\" >178</th>\n",
       "                        <th id=\"T_88e0d2b0_d05e_11ea_b3f2_c858c0c159a2level1_row1\" class=\"row_heading level1 row1\" >Oathbreaker, Last Hope of the Breaking Storm</th>\n",
       "                        <td id=\"T_88e0d2b0_d05e_11ea_b3f2_c858c0c159a2row1_col0\" class=\"data row1 col0\" >12</td>\n",
       "                        <td id=\"T_88e0d2b0_d05e_11ea_b3f2_c858c0c159a2row1_col1\" class=\"data row1 col1\" >$4.23</td>\n",
       "                        <td id=\"T_88e0d2b0_d05e_11ea_b3f2_c858c0c159a2row1_col2\" class=\"data row1 col2\" >$50.76</td>\n",
       "            </tr>\n",
       "            <tr>\n",
       "                        <th id=\"T_88e0d2b0_d05e_11ea_b3f2_c858c0c159a2level0_row2\" class=\"row_heading level0 row2\" >145</th>\n",
       "                        <th id=\"T_88e0d2b0_d05e_11ea_b3f2_c858c0c159a2level1_row2\" class=\"row_heading level1 row2\" >Fiery Glass Crusader</th>\n",
       "                        <td id=\"T_88e0d2b0_d05e_11ea_b3f2_c858c0c159a2row2_col0\" class=\"data row2 col0\" >9</td>\n",
       "                        <td id=\"T_88e0d2b0_d05e_11ea_b3f2_c858c0c159a2row2_col1\" class=\"data row2 col1\" >$4.58</td>\n",
       "                        <td id=\"T_88e0d2b0_d05e_11ea_b3f2_c858c0c159a2row2_col2\" class=\"data row2 col2\" >$41.22</td>\n",
       "            </tr>\n",
       "            <tr>\n",
       "                        <th id=\"T_88e0d2b0_d05e_11ea_b3f2_c858c0c159a2level0_row3\" class=\"row_heading level0 row3\" >132</th>\n",
       "                        <th id=\"T_88e0d2b0_d05e_11ea_b3f2_c858c0c159a2level1_row3\" class=\"row_heading level1 row3\" >Persuasion</th>\n",
       "                        <td id=\"T_88e0d2b0_d05e_11ea_b3f2_c858c0c159a2row3_col0\" class=\"data row3 col0\" >9</td>\n",
       "                        <td id=\"T_88e0d2b0_d05e_11ea_b3f2_c858c0c159a2row3_col1\" class=\"data row3 col1\" >$3.22</td>\n",
       "                        <td id=\"T_88e0d2b0_d05e_11ea_b3f2_c858c0c159a2row3_col2\" class=\"data row3 col2\" >$28.99</td>\n",
       "            </tr>\n",
       "            <tr>\n",
       "                        <th id=\"T_88e0d2b0_d05e_11ea_b3f2_c858c0c159a2level0_row4\" class=\"row_heading level0 row4\" >108</th>\n",
       "                        <th id=\"T_88e0d2b0_d05e_11ea_b3f2_c858c0c159a2level1_row4\" class=\"row_heading level1 row4\" >Extraction, Quickblade Of Trembling Hands</th>\n",
       "                        <td id=\"T_88e0d2b0_d05e_11ea_b3f2_c858c0c159a2row4_col0\" class=\"data row4 col0\" >9</td>\n",
       "                        <td id=\"T_88e0d2b0_d05e_11ea_b3f2_c858c0c159a2row4_col1\" class=\"data row4 col1\" >$3.53</td>\n",
       "                        <td id=\"T_88e0d2b0_d05e_11ea_b3f2_c858c0c159a2row4_col2\" class=\"data row4 col2\" >$31.77</td>\n",
       "            </tr>\n",
       "    </tbody></table>"
      ],
      "text/plain": [
       "<pandas.io.formats.style.Styler at 0x13d929e7bc8>"
      ]
     },
     "execution_count": 46,
     "metadata": {},
     "output_type": "execute_result"
    }
   ],
   "source": [
    "# Most Profitable Items\n",
    "\n",
    "## Identify the 5 most profitable items by total purchase value, then list (in a table):\n",
    "\n",
    "### Item ID\n",
    "### Item Name\n",
    "### Purchase Count\n",
    "### Item Price\n",
    "### Total Purchase Value\n",
    "items = purchase_data[[\"Item ID\", \"Item Name\", \"Price\"]]\n",
    "\n",
    "item_stats = items.groupby([\"Item ID\",\"Item Name\"])\n",
    "\n",
    "purchase_count_item = item_stats[\"Price\"].count()\n",
    "\n",
    "purchase_value = (item_stats[\"Price\"].sum()) \n",
    "\n",
    "item_price = purchase_value/purchase_count_item\n",
    "\n",
    "# Create data frame\n",
    "most_popular_items = pd.DataFrame({\"Purchase Count\": purchase_count_item, \n",
    "                                   \"Item Price\": item_price,\n",
    "                                   \"Total Purchase Value\":purchase_value})\n",
    "popular_formatted = most_popular_items.sort_values([\"Purchase Count\"], ascending=False).head()\n",
    "\n",
    "# Currnency format\n",
    "popular_formatted.style.format({\"Item Price\":\"${:,.2f}\",\n",
    "                                \"Total Purchase Value\":\"${:,.2f}\"})"
   ]
  },
  {
   "cell_type": "code",
   "execution_count": null,
   "metadata": {},
   "outputs": [],
   "source": []
  },
  {
   "cell_type": "code",
   "execution_count": null,
   "metadata": {},
   "outputs": [],
   "source": []
  }
 ],
 "metadata": {
  "kernelspec": {
   "display_name": "Python 3",
   "language": "python",
   "name": "python3"
  },
  "language_info": {
   "codemirror_mode": {
    "name": "ipython",
    "version": 3
   },
   "file_extension": ".py",
   "mimetype": "text/x-python",
   "name": "python",
   "nbconvert_exporter": "python",
   "pygments_lexer": "ipython3",
   "version": "3.7.6"
  }
 },
 "nbformat": 4,
 "nbformat_minor": 4
}
